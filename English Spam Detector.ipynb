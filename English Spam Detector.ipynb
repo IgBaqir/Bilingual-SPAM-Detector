{
 "cells": [
  {
   "cell_type": "code",
   "execution_count": 26,
   "id": "cbf44b8f",
   "metadata": {},
   "outputs": [],
   "source": [
    "import pandas as pd\n",
    "import numpy as np\n",
    "import tensorflow as tf\n",
    "import pickle\n",
    "import matplotlib.pyplot as plt\n",
    "from tensorflow.keras.preprocessing.text import Tokenizer\n",
    "from tensorflow.keras.preprocessing.sequence import pad_sequences\n",
    "from tensorflow.keras.models import Sequential\n",
    "from tensorflow.keras.layers import Embedding, LSTM, Bidirectional, Dense, Dropout"
   ]
  },
  {
   "cell_type": "markdown",
   "id": "932961dc",
   "metadata": {},
   "source": [
    "# 1. Data Preprocessing\n"
   ]
  },
  {
   "cell_type": "code",
   "execution_count": 27,
   "id": "044b4e5e",
   "metadata": {},
   "outputs": [],
   "source": [
    "df = pd.read_csv('english_spam.csv')"
   ]
  },
  {
   "cell_type": "code",
   "execution_count": 28,
   "id": "26ef0347",
   "metadata": {},
   "outputs": [
    {
     "data": {
      "text/html": [
       "<div>\n",
       "<style scoped>\n",
       "    .dataframe tbody tr th:only-of-type {\n",
       "        vertical-align: middle;\n",
       "    }\n",
       "\n",
       "    .dataframe tbody tr th {\n",
       "        vertical-align: top;\n",
       "    }\n",
       "\n",
       "    .dataframe thead th {\n",
       "        text-align: right;\n",
       "    }\n",
       "</style>\n",
       "<table border=\"1\" class=\"dataframe\">\n",
       "  <thead>\n",
       "    <tr style=\"text-align: right;\">\n",
       "      <th></th>\n",
       "      <th>labels</th>\n",
       "      <th>text</th>\n",
       "    </tr>\n",
       "  </thead>\n",
       "  <tbody>\n",
       "    <tr>\n",
       "      <th>4245</th>\n",
       "      <td>ham</td>\n",
       "      <td>Night has ended for another day, morning has c...</td>\n",
       "    </tr>\n",
       "    <tr>\n",
       "      <th>758</th>\n",
       "      <td>ham</td>\n",
       "      <td>We are at grandmas. Oh dear, u still ill? I fe...</td>\n",
       "    </tr>\n",
       "    <tr>\n",
       "      <th>141</th>\n",
       "      <td>ham</td>\n",
       "      <td>Sir, Waiting for your mail.</td>\n",
       "    </tr>\n",
       "    <tr>\n",
       "      <th>3553</th>\n",
       "      <td>ham</td>\n",
       "      <td>Probably not, still going over some stuff here</td>\n",
       "    </tr>\n",
       "    <tr>\n",
       "      <th>5019</th>\n",
       "      <td>ham</td>\n",
       "      <td>NaN</td>\n",
       "    </tr>\n",
       "    <tr>\n",
       "      <th>3561</th>\n",
       "      <td>ham</td>\n",
       "      <td>I will reach ur home in  &lt;#&gt;  minutes</td>\n",
       "    </tr>\n",
       "    <tr>\n",
       "      <th>3626</th>\n",
       "      <td>ham</td>\n",
       "      <td>Nothing spl..wat abt u and whr ru?</td>\n",
       "    </tr>\n",
       "    <tr>\n",
       "      <th>3798</th>\n",
       "      <td>ham</td>\n",
       "      <td>Right on brah, see you later</td>\n",
       "    </tr>\n",
       "    <tr>\n",
       "      <th>2054</th>\n",
       "      <td>ham</td>\n",
       "      <td>In xam hall boy asked girl Tell me the startin...</td>\n",
       "    </tr>\n",
       "    <tr>\n",
       "      <th>1926</th>\n",
       "      <td>ham</td>\n",
       "      <td>HI DARLIN IVE JUST GOT BACK AND I HAD A REALLY...</td>\n",
       "    </tr>\n",
       "  </tbody>\n",
       "</table>\n",
       "</div>"
      ],
      "text/plain": [
       "     labels                                               text\n",
       "4245    ham  Night has ended for another day, morning has c...\n",
       "758     ham  We are at grandmas. Oh dear, u still ill? I fe...\n",
       "141     ham                        Sir, Waiting for your mail.\n",
       "3553    ham     Probably not, still going over some stuff here\n",
       "5019    ham                                                NaN\n",
       "3561    ham              I will reach ur home in  <#>  minutes\n",
       "3626    ham                 Nothing spl..wat abt u and whr ru?\n",
       "3798    ham                       Right on brah, see you later\n",
       "2054    ham  In xam hall boy asked girl Tell me the startin...\n",
       "1926    ham  HI DARLIN IVE JUST GOT BACK AND I HAD A REALLY..."
      ]
     },
     "execution_count": 28,
     "metadata": {},
     "output_type": "execute_result"
    }
   ],
   "source": [
    "df.sample(10)"
   ]
  },
  {
   "cell_type": "code",
   "execution_count": 29,
   "id": "3634f081",
   "metadata": {},
   "outputs": [
    {
     "data": {
      "text/plain": [
       "(5407, 2)"
      ]
     },
     "execution_count": 29,
     "metadata": {},
     "output_type": "execute_result"
    }
   ],
   "source": [
    "df.shape"
   ]
  },
  {
   "cell_type": "code",
   "execution_count": 30,
   "id": "76a7963b",
   "metadata": {},
   "outputs": [
    {
     "data": {
      "text/plain": [
       "<bound method DataFrame.info of      labels                                               text\n",
       "0       ham  Go until jurong point, crazy.. Available only ...\n",
       "1       ham                      Ok lar... Joking wif u oni...\n",
       "2      spam  Free entry in 2 a wkly comp to win FA Cup fina...\n",
       "3       ham  U dun say so early hor... U c already then say...\n",
       "4       ham  Nah I don't think he goes to usf, he lives aro...\n",
       "...     ...                                                ...\n",
       "5402   spam                                                NaN\n",
       "5403    ham                                                NaN\n",
       "5404    ham  Pity, * was in mood for that. So...any other s...\n",
       "5405    ham  The guy did some bitching but I acted like i'd...\n",
       "5406    ham                         Rofl. Its true to its name\n",
       "\n",
       "[5407 rows x 2 columns]>"
      ]
     },
     "execution_count": 30,
     "metadata": {},
     "output_type": "execute_result"
    }
   ],
   "source": [
    "df.info"
   ]
  },
  {
   "cell_type": "code",
   "execution_count": 31,
   "id": "9c708802",
   "metadata": {},
   "outputs": [
    {
     "data": {
      "text/plain": [
       "<function matplotlib.pyplot.show(close=None, block=None)>"
      ]
     },
     "execution_count": 31,
     "metadata": {},
     "output_type": "execute_result"
    },
    {
     "data": {
      "image/png": "[encoded data removed]",
      "text/plain": [
       "<Figure size 640x480 with 1 Axes>"
      ]
     },
     "metadata": {},
     "output_type": "display_data"
    }
   ],
   "source": [
    "#plotting\n",
    "plt.pie(df['labels'].value_counts(), labels = ['ham', 'spam'], autopct=\"%0.2f\")\n",
    "plt.show"
   ]
  },
  {
   "cell_type": "code",
   "execution_count": 32,
   "id": "76f18c2d",
   "metadata": {},
   "outputs": [
    {
     "name": "stdout",
     "output_type": "stream",
     "text": [
      "Texts: ['Go until jurong point, crazy.. Available only in bugis n great world la e buffet... Cine there got amore wat...'\n",
      " 'Ok lar... Joking wif u oni...'\n",
      " \"Free entry in 2 a wkly comp to win FA Cup final tkts 21st May 2005. Text FA to 87121 to receive entry question(std txt rate)T&C's apply 08452810075over18's\"\n",
      " ... 'Pity, * was in mood for that. So...any other suggestions?'\n",
      " \"The guy did some bitching but I acted like i'd be interested in buying something else next week and he gave it to us for free\"\n",
      " 'Rofl. Its true to its name']\n",
      "Labels: [0 0 1 ... 0 0 0]\n"
     ]
    }
   ],
   "source": [
    "# Split the dataset into input (SMS messages) and target (spam or not)\n",
    "\n",
    "texts = df['text'].astype(str).values\n",
    "labels = df['labels'].map({'ham': 0, 'spam': 1}).values\n",
    "print('Texts:',texts)\n",
    "print('Labels:',labels)"
   ]
  },
  {
   "cell_type": "code",
   "execution_count": 33,
   "id": "488228c0",
   "metadata": {},
   "outputs": [],
   "source": [
    "#Tokenization and Padding\n",
    "max_words = 1000\n",
    "tokenizer = Tokenizer(num_words=max_words, oov_token='<OOV>')\n",
    "tokenizer.fit_on_texts(texts)\n",
    "word_index = tokenizer.word_index\n",
    "sequences = tokenizer.texts_to_sequences(texts)\n",
    "padded_sequences = pad_sequences(sequences, padding='post')\n",
    "\n"
   ]
  },
  {
   "cell_type": "code",
   "execution_count": 35,
   "id": "c1df9092",
   "metadata": {},
   "outputs": [],
   "source": [
    "with open('tokenizer2.pkl', 'wb') as f:\n",
    "    pickle.dump(tokenizer, f)\n",
    "max_length = padded_sequences.shape[1]\n",
    "with open('max_length2.pkl', 'wb') as f:\n",
    "    pickle.dump(max_length, f)"
   ]
  },
  {
   "cell_type": "markdown",
   "id": "23587262",
   "metadata": {},
   "source": [
    "# 2. Model \n"
   ]
  },
  {
   "cell_type": "code",
   "execution_count": 9,
   "id": "f14721b7",
   "metadata": {},
   "outputs": [],
   "source": [
    "model = Sequential()\n",
    "model.add(Embedding(max_words, 32, input_length = padded_sequences.shape[1]))\n",
    "model.add(Bidirectional(LSTM(64)))\n",
    "model.add(Dense(64, activation= 'relu'))\n",
    "model.add(Dropout(0.5))\n",
    "model.add(Dense(1, activation ='sigmoid'))"
   ]
  },
  {
   "cell_type": "code",
   "execution_count": 10,
   "id": "113ec9c3",
   "metadata": {},
   "outputs": [],
   "source": [
    "#model compilation\n",
    "model.compile(loss='binary_crossentropy', optimizer='adam', metrics=['accuracy'])"
   ]
  },
  {
   "cell_type": "code",
   "execution_count": 11,
   "id": "689f181d",
   "metadata": {},
   "outputs": [],
   "source": [
    "#Train_test_split\n",
    "train_size = int(0.8 * len(padded_sequences))\n",
    "train_texts = padded_sequences[:train_size]\n",
    "train_labels = labels[:train_size]\n",
    "test_texts = padded_sequences[train_size:]\n",
    "test_labels = labels[train_size:]"
   ]
  },
  {
   "cell_type": "code",
   "execution_count": 12,
   "id": "b746c892",
   "metadata": {},
   "outputs": [
    {
     "name": "stdout",
     "output_type": "stream",
     "text": [
      "Epoch 1/10\n"
     ]
    },
    {
     "name": "stderr",
     "output_type": "stream",
     "text": [
      "2023-07-05 13:54:20.842425: W tensorflow/core/platform/profile_utils/cpu_utils.cc:128] Failed to get CPU frequency: 0 Hz\n"
     ]
    },
    {
     "name": "stdout",
     "output_type": "stream",
     "text": [
      "136/136 [==============================] - 9s 59ms/step - loss: 0.3187 - accuracy: 0.8849 - val_loss: 0.1264 - val_accuracy: 0.9390\n",
      "Epoch 2/10\n",
      "136/136 [==============================] - 8s 58ms/step - loss: 0.1184 - accuracy: 0.9431 - val_loss: 0.1124 - val_accuracy: 0.9418\n",
      "Epoch 3/10\n",
      "136/136 [==============================] - 8s 58ms/step - loss: 0.0985 - accuracy: 0.9473 - val_loss: 0.1102 - val_accuracy: 0.9464\n",
      "Epoch 4/10\n",
      "136/136 [==============================] - 8s 59ms/step - loss: 0.0891 - accuracy: 0.9468 - val_loss: 0.1247 - val_accuracy: 0.9399\n",
      "Epoch 5/10\n",
      "136/136 [==============================] - 8s 58ms/step - loss: 0.0823 - accuracy: 0.9461 - val_loss: 0.1196 - val_accuracy: 0.9445\n",
      "Epoch 6/10\n",
      "136/136 [==============================] - 8s 56ms/step - loss: 0.0740 - accuracy: 0.9535 - val_loss: 0.1172 - val_accuracy: 0.9464\n",
      "Epoch 7/10\n",
      "136/136 [==============================] - 8s 57ms/step - loss: 0.0685 - accuracy: 0.9565 - val_loss: 0.1583 - val_accuracy: 0.9427\n",
      "Epoch 8/10\n",
      "136/136 [==============================] - 8s 57ms/step - loss: 0.0737 - accuracy: 0.9570 - val_loss: 0.1326 - val_accuracy: 0.9445\n",
      "Epoch 9/10\n",
      "136/136 [==============================] - 8s 59ms/step - loss: 0.0685 - accuracy: 0.9558 - val_loss: 0.1522 - val_accuracy: 0.9445\n",
      "Epoch 10/10\n",
      "136/136 [==============================] - 8s 58ms/step - loss: 0.0774 - accuracy: 0.9538 - val_loss: 0.1301 - val_accuracy: 0.9473\n"
     ]
    }
   ],
   "source": [
    "#Training the model\n",
    "epochs = 10 \n",
    "batch_size = 32\n",
    "history = model.fit(train_texts, train_labels, epochs=epochs, batch_size=batch_size, validation_data=(test_texts, test_labels))"
   ]
  },
  {
   "cell_type": "code",
   "execution_count": 13,
   "id": "ddf71028",
   "metadata": {},
   "outputs": [],
   "source": [
    "filename = \"model2.h5\"\n",
    "model.save(filename)"
   ]
  },
  {
   "cell_type": "markdown",
   "id": "962f12b1",
   "metadata": {},
   "source": [
    "# 3. Evaluating the Model"
   ]
  },
  {
   "cell_type": "code",
   "execution_count": 14,
   "id": "92f3ae41",
   "metadata": {},
   "outputs": [
    {
     "name": "stdout",
     "output_type": "stream",
     "text": [
      "34/34 [==============================] - 0s 14ms/step - loss: 0.1301 - accuracy: 0.9473\n",
      "Test Loss: 0.13014721870422363\n",
      "Test Accuracy: 0.9473198056221008\n"
     ]
    }
   ],
   "source": [
    "loss, accuracy = model.evaluate(test_texts, test_labels)\n",
    "print('Test Loss:', loss)\n",
    "print('Test Accuracy:', accuracy)"
   ]
  },
  {
   "cell_type": "code",
   "execution_count": 15,
   "id": "52eddfdc",
   "metadata": {},
   "outputs": [],
   "source": [
    "tf.keras.models.save_model(model, 'english_model.h5')"
   ]
  },
  {
   "cell_type": "code",
   "execution_count": 16,
   "id": "bd27305b",
   "metadata": {},
   "outputs": [
    {
     "data": {
      "text/plain": [
       "dict_keys(['loss', 'accuracy', 'val_loss', 'val_accuracy'])"
      ]
     },
     "execution_count": 16,
     "metadata": {},
     "output_type": "execute_result"
    }
   ],
   "source": [
    "history.history.keys()"
   ]
  },
  {
   "cell_type": "code",
   "execution_count": 17,
   "id": "8de0a3f8",
   "metadata": {},
   "outputs": [
    {
     "data": {
      "image/png": "[encoded data removed]",
      "text/plain": [
       "<Figure size 640x480 with 1 Axes>"
      ]
     },
     "metadata": {},
     "output_type": "display_data"
    }
   ],
   "source": [
    "plt.plot(history.history['accuracy'])\n",
    "plt.title('Model Accuracy')\n",
    "plt.ylabel('accuracy')\n",
    "plt.xlabel('epoch')\n",
    "plt.legend(['train'], loc='upper left')\n",
    "plt.show()"
   ]
  },
  {
   "cell_type": "code",
   "execution_count": 18,
   "id": "93a90fe9",
   "metadata": {},
   "outputs": [
    {
     "data": {
      "image/png": "[encoded data removed]",
      "text/plain": [
       "<Figure size 640x480 with 1 Axes>"
      ]
     },
     "metadata": {},
     "output_type": "display_data"
    }
   ],
   "source": [
    "plt.plot(history.history['loss'])\n",
    "plt.title('Model Loss')\n",
    "plt.ylabel('loss')\n",
    "plt.xlabel('epoch')\n",
    "plt.legend(['train'], loc='upper left')\n",
    "plt.show()"
   ]
  },
  {
   "cell_type": "code",
   "execution_count": 19,
   "id": "027399eb",
   "metadata": {},
   "outputs": [
    {
     "data": {
      "image/png": "[encoded data removed]",
      "text/plain": [
       "<Figure size 640x480 with 1 Axes>"
      ]
     },
     "metadata": {},
     "output_type": "display_data"
    }
   ],
   "source": [
    "plt.plot(history.history['loss'])\n",
    "plt.plot(history.history['accuracy'])\n",
    "plt.title('model loss vs accuracy')\n",
    "plt.xlabel('epoch')\n",
    "plt.legend(['loss', 'accuracy'], loc='upper right')\n",
    "plt.show() "
   ]
  },
  {
   "cell_type": "code",
   "execution_count": 25,
   "id": "228fcefa",
   "metadata": {},
   "outputs": [
    {
     "name": "stdout",
     "output_type": "stream",
     "text": [
      "Enter a message: Dear Customer, your UPI registration for WhatsApp has started. Do not share your Debit card details/One time password or OTP/Expiry date number to avoid any financial loss. If it is not initiated by you, please report to your bank immediately.\n",
      "1/1 [==============================] - 0s 25ms/step\n",
      "The message is predicted as not spam.\n"
     ]
    }
   ],
   "source": [
    "\n",
    "# Take user input\n",
    "user_input = input(\"Enter a message: \")\n",
    "\n",
    "# Preprocess the user input\n",
    "user_sequence = tokenizer.texts_to_sequences([user_input])\n",
    "user_padded_sequence = pad_sequences(user_sequence, padding='post', maxlen=padded_sequences.shape[1])\n",
    "\n",
    "# Make prediction on user input\n",
    "prediction = model.predict(user_padded_sequence)\n",
    "\n",
    "# Interpret the prediction\n",
    "if prediction >= 0.5:\n",
    "    print(\"The message is predicted as spam.\")\n",
    "else:\n",
    "    print(\"The message is predicted as not spam.\")\n"
   ]
  },
  {
   "cell_type": "code",
   "execution_count": 21,
   "id": "a44b6e56",
   "metadata": {},
   "outputs": [],
   "source": [
    "\n",
    "\n",
    "# # Load and preprocess the real-world data\n",
    "# real_data = pd.read_csv('realdata.csv')\n",
    "# real_texts = real_data['text'].astype(str).values\n",
    "# real_sequences = tokenizer.texts_to_sequences(real_texts)\n",
    "# real_padded_sequences = pad_sequences(real_sequences, padding='post')\n",
    "\n",
    "# # Make predictions on the real-world data\n",
    "# predictions = model.predict(real_padded_sequences)\n",
    "\n",
    "# # Interpret the predictions\n",
    "# for i, prediction in enumerate(predictions):\n",
    "#     if prediction >= 0.5:\n",
    "#         print(f\"Message '{i}' is predicted as spam.\")\n",
    "#     else:\n",
    "#         print(f\"Message '{i}' is predicted as not spam.\")\n"
   ]
  },
  {
   "cell_type": "code",
   "execution_count": null,
   "id": "58cfe246",
   "metadata": {},
   "outputs": [],
   "source": []
  }
 ],
 "metadata": {
  "kernelspec": {
   "display_name": "Python 3 (ipykernel)",
   "language": "python",
   "name": "python3"
  },
  "language_info": {
   "codemirror_mode": {
    "name": "ipython",
    "version": 3
   },
   "file_extension": ".py",
   "mimetype": "text/x-python",
   "name": "python",
   "nbconvert_exporter": "python",
   "pygments_lexer": "ipython3",
   "version": "3.10.9"
  }
 },
 "nbformat": 4,
 "nbformat_minor": 5
}
