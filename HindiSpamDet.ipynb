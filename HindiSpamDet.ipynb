{
 "cells": [
  {
   "cell_type": "code",
   "execution_count": 2,
   "id": "cbf44b8f",
   "metadata": {},
   "outputs": [],
   "source": [
    "import pandas as pd\n",
    "import numpy as np\n",
    "import tensorflow as tf\n",
    "import matplotlib.pyplot as plt\n",
    "from tensorflow.keras.preprocessing.text import Tokenizer\n",
    "from tensorflow.keras.preprocessing.sequence import pad_sequences\n",
    "from tensorflow.keras.models import Sequential\n",
    "from tensorflow.keras.layers import Embedding, LSTM, Bidirectional, Dense, Dropout"
   ]
  },
  {
   "cell_type": "markdown",
   "id": "932961dc",
   "metadata": {},
   "source": [
    "# 1. Data Preprocessing\n"
   ]
  },
  {
   "cell_type": "code",
   "execution_count": 3,
   "id": "044b4e5e",
   "metadata": {},
   "outputs": [],
   "source": [
    "df = pd.read_csv('finaldata.csv')"
   ]
  },
  {
   "cell_type": "code",
   "execution_count": 4,
   "id": "26ef0347",
   "metadata": {},
   "outputs": [
    {
     "data": {
      "text/html": [
       "<div>\n",
       "<style scoped>\n",
       "    .dataframe tbody tr th:only-of-type {\n",
       "        vertical-align: middle;\n",
       "    }\n",
       "\n",
       "    .dataframe tbody tr th {\n",
       "        vertical-align: top;\n",
       "    }\n",
       "\n",
       "    .dataframe thead th {\n",
       "        text-align: right;\n",
       "    }\n",
       "</style>\n",
       "<table border=\"1\" class=\"dataframe\">\n",
       "  <thead>\n",
       "    <tr style=\"text-align: right;\">\n",
       "      <th></th>\n",
       "      <th>labels</th>\n",
       "      <th>text</th>\n",
       "    </tr>\n",
       "  </thead>\n",
       "  <tbody>\n",
       "    <tr>\n",
       "      <th>5504</th>\n",
       "      <td>ham</td>\n",
       "      <td>इंतजार करें. मैं &amp;lt;#gt; मि.</td>\n",
       "    </tr>\n",
       "    <tr>\n",
       "      <th>5402</th>\n",
       "      <td>ham</td>\n",
       "      <td>हाय यह अच्छी तरह से जाने के लिए मेरा शुक्रिया!</td>\n",
       "    </tr>\n",
       "    <tr>\n",
       "      <th>1813</th>\n",
       "      <td>ham</td>\n",
       "      <td>टिकट 4 wapapapapapapappappppap प्राप्त कर रही ...</td>\n",
       "    </tr>\n",
       "    <tr>\n",
       "      <th>1524</th>\n",
       "      <td>ham</td>\n",
       "      <td>एक्स से ठीक है...</td>\n",
       "    </tr>\n",
       "    <tr>\n",
       "      <th>3257</th>\n",
       "      <td>ham</td>\n",
       "      <td>वे लोग कौन थे? क्या आप एक यात्रा में थे? मैंने...</td>\n",
       "    </tr>\n",
       "    <tr>\n",
       "      <th>2078</th>\n",
       "      <td>ham</td>\n",
       "      <td>Hannonks उसे मिलता है 2 बजे उसे मिलता है। वह च...</td>\n",
       "    </tr>\n",
       "    <tr>\n",
       "      <th>5453</th>\n",
       "      <td>ham</td>\n",
       "      <td>सिवाय एक लड़की के साथ बड़े obs.</td>\n",
       "    </tr>\n",
       "    <tr>\n",
       "      <th>4846</th>\n",
       "      <td>ham</td>\n",
       "      <td>आप भी गायब हो गई.</td>\n",
       "    </tr>\n",
       "    <tr>\n",
       "      <th>1456</th>\n",
       "      <td>spam</td>\n",
       "      <td>Yr क्षेत्र में सेक्सी के साथ एक गपशप या इश्वर ...</td>\n",
       "    </tr>\n",
       "    <tr>\n",
       "      <th>1335</th>\n",
       "      <td>ham</td>\n",
       "      <td>ओह! एक आधा घंटे कनाडा से अधिक हो गया है, ना? व...</td>\n",
       "    </tr>\n",
       "  </tbody>\n",
       "</table>\n",
       "</div>"
      ],
      "text/plain": [
       "     labels                                               text\n",
       "5504    ham                      इंतजार करें. मैं &lt;#gt; मि.\n",
       "5402    ham     हाय यह अच्छी तरह से जाने के लिए मेरा शुक्रिया!\n",
       "1813    ham  टिकट 4 wapapapapapapappappppap प्राप्त कर रही ...\n",
       "1524    ham                                  एक्स से ठीक है...\n",
       "3257    ham  वे लोग कौन थे? क्या आप एक यात्रा में थे? मैंने...\n",
       "2078    ham  Hannonks उसे मिलता है 2 बजे उसे मिलता है। वह च...\n",
       "5453    ham                    सिवाय एक लड़की के साथ बड़े obs.\n",
       "4846    ham                                  आप भी गायब हो गई.\n",
       "1456   spam  Yr क्षेत्र में सेक्सी के साथ एक गपशप या इश्वर ...\n",
       "1335    ham  ओह! एक आधा घंटे कनाडा से अधिक हो गया है, ना? व..."
      ]
     },
     "execution_count": 4,
     "metadata": {},
     "output_type": "execute_result"
    }
   ],
   "source": [
    "df.sample(10)"
   ]
  },
  {
   "cell_type": "code",
   "execution_count": 5,
   "id": "3634f081",
   "metadata": {},
   "outputs": [
    {
     "data": {
      "text/plain": [
       "(5572, 2)"
      ]
     },
     "execution_count": 5,
     "metadata": {},
     "output_type": "execute_result"
    }
   ],
   "source": [
    "df.shape"
   ]
  },
  {
   "cell_type": "code",
   "execution_count": 6,
   "id": "76a7963b",
   "metadata": {},
   "outputs": [
    {
     "data": {
      "text/plain": [
       "<bound method DataFrame.info of      labels                                               text\n",
       "0       ham  Dakag बिंदु तक जाओ, पागल. केवल Bag Non महान वि...\n",
       "1       ham                         ओके लामर.... if if uue पर.\n",
       "2      spam  Fktatatat 21 मई को प्राप्त करने के लिए मुफ्त प...\n",
       "3       ham  Uden इतना जल्दी कहते हैं... तो पहले से ही यूसी...\n",
       "4       ham  नहीं, मुझे नहीं लगता कि वह हमारे लिए चला जाता ...\n",
       "...     ...                                                ...\n",
       "5567   spam  यह 2 सेकंड है जब हमने 2 संपर्क की कोशिश की है....\n",
       "5568    ham      क्या कलाई घर का पता लगाने के लिए जा रही होगी?\n",
       "5569    ham                      तो फिर, दूसरे सुझाव क्या हैं?\n",
       "5570    ham  आदमी कुछ कुतियािंग किया लेकिन मैं मैं कुछ और ख...\n",
       "5571    ham                     उसकी पीठ के नाम पर इसकी सच्चाई\n",
       "\n",
       "[5572 rows x 2 columns]>"
      ]
     },
     "execution_count": 6,
     "metadata": {},
     "output_type": "execute_result"
    }
   ],
   "source": [
    "df.info"
   ]
  },
  {
   "cell_type": "code",
   "execution_count": 7,
   "id": "9c708802",
   "metadata": {},
   "outputs": [
    {
     "data": {
      "text/plain": [
       "<function matplotlib.pyplot.show(close=None, block=None)>"
      ]
     },
     "execution_count": 7,
     "metadata": {},
     "output_type": "execute_result"
    },
    {
     "data": {
      "image/png": "[encoded data removed]",
      "text/plain": [
       "<Figure size 640x480 with 1 Axes>"
      ]
     },
     "metadata": {},
     "output_type": "display_data"
    }
   ],
   "source": [
    "#plotting\n",
    "plt.pie(df['labels'].value_counts(), labels = ['ham', 'spam'], autopct=\"%0.2f\")\n",
    "plt.show"
   ]
  },
  {
   "cell_type": "code",
   "execution_count": 8,
   "id": "76f18c2d",
   "metadata": {},
   "outputs": [
    {
     "name": "stdout",
     "output_type": "stream",
     "text": [
      "Texts: ['Dakag बिंदु तक जाओ, पागल. केवल Bag Non महान विश्व cag में उपलब्ध है... वहाँ एक अधिक wack मिला...'\n",
      " 'ओके लामर.... if if uue पर.'\n",
      " 'Fktatatat 21 मई को प्राप्त करने के लिए मुफ्त प्रविष्टि में. पाठ FAO को 87121 में प्रविष्टि प्राप्त करने के लिए(stibook दर) TTVERVE है 0. 08375750818 के मूल्य लागू करता है'\n",
      " ... 'तो फिर, दूसरे सुझाव क्या हैं?'\n",
      " 'आदमी कुछ कुतियािंग किया लेकिन मैं मैं कुछ और खरीदने में दिलचस्पी की तरह काम किया और वह हमें मुक्त करने के लिए दे दिया'\n",
      " 'उसकी पीठ के नाम पर इसकी सच्चाई']\n",
      "Labels: [0 0 1 ... 0 0 0]\n"
     ]
    }
   ],
   "source": [
    "# Split the dataset into input (SMS messages) and target (spam or not)\n",
    "\n",
    "texts = df['text'].astype(str).values\n",
    "labels = df['labels'].map({'ham': 0, 'spam': 1}).values\n",
    "print('Texts:',texts)\n",
    "print('Labels:',labels)"
   ]
  },
  {
   "cell_type": "code",
   "execution_count": 9,
   "id": "488228c0",
   "metadata": {},
   "outputs": [
    {
     "name": "stdout",
     "output_type": "stream",
     "text": [
      "[[  1 816  78 ...   0   0   0]\n",
      " [  1 515   1 ...   0   0   0]\n",
      " [  1 887   1 ...   0   0   0]\n",
      " ...\n",
      " [ 32  60 413 ...   0   0   0]\n",
      " [161  41   1 ...   0   0   0]\n",
      " [392   1   3 ...   0   0   0]]\n"
     ]
    }
   ],
   "source": [
    "#Tokenization and Padding\n",
    "max_words = 1000\n",
    "tokenizer = Tokenizer(num_words=max_words, oov_token='<OOV>')\n",
    "tokenizer.fit_on_texts(texts)\n",
    "word_index = tokenizer.word_index\n",
    "sequences = tokenizer.texts_to_sequences(texts)\n",
    "padded_sequences = pad_sequences(sequences, padding='post')\n",
    "print(padded_sequences)\n"
   ]
  },
  {
   "cell_type": "markdown",
   "id": "23587262",
   "metadata": {},
   "source": [
    "# 2. Model \n"
   ]
  },
  {
   "cell_type": "code",
   "execution_count": 10,
   "id": "f14721b7",
   "metadata": {},
   "outputs": [],
   "source": [
    "model = Sequential()\n",
    "model.add(Embedding(max_words, 32, input_length = padded_sequences.shape[1]))\n",
    "model.add(Bidirectional(LSTM(64)))\n",
    "model.add(Dense(64, activation= 'relu'))\n",
    "model.add(Dropout(0.5))\n",
    "model.add(Dense(1, activation ='sigmoid'))"
   ]
  },
  {
   "cell_type": "code",
   "execution_count": 11,
   "id": "113ec9c3",
   "metadata": {},
   "outputs": [],
   "source": [
    "#model compilation\n",
    "model.compile(loss='binary_crossentropy', optimizer='adam', metrics=['accuracy'])"
   ]
  },
  {
   "cell_type": "code",
   "execution_count": 12,
   "id": "689f181d",
   "metadata": {},
   "outputs": [],
   "source": [
    "#Train_test_split\n",
    "train_size = int(0.8 * len(padded_sequences))\n",
    "train_texts = padded_sequences[:train_size]\n",
    "train_labels = labels[:train_size]\n",
    "test_texts = padded_sequences[train_size:]\n",
    "test_labels = labels[train_size:]"
   ]
  },
  {
   "cell_type": "code",
   "execution_count": 13,
   "id": "b746c892",
   "metadata": {},
   "outputs": [
    {
     "name": "stdout",
     "output_type": "stream",
     "text": [
      "Epoch 1/10\n"
     ]
    },
    {
     "name": "stderr",
     "output_type": "stream",
     "text": [
      "2023-06-24 02:11:22.797481: W tensorflow/core/platform/profile_utils/cpu_utils.cc:128] Failed to get CPU frequency: 0 Hz\n"
     ]
    },
    {
     "name": "stdout",
     "output_type": "stream",
     "text": [
      "140/140 [==============================] - 14s 91ms/step - loss: 0.2859 - accuracy: 0.9035 - val_loss: 0.1389 - val_accuracy: 0.9596\n",
      "Epoch 2/10\n",
      "140/140 [==============================] - 12s 85ms/step - loss: 0.1096 - accuracy: 0.9672 - val_loss: 0.0916 - val_accuracy: 0.9722\n",
      "Epoch 3/10\n",
      "140/140 [==============================] - 12s 85ms/step - loss: 0.0821 - accuracy: 0.9773 - val_loss: 0.0938 - val_accuracy: 0.9749\n",
      "Epoch 4/10\n",
      "140/140 [==============================] - 12s 86ms/step - loss: 0.0667 - accuracy: 0.9809 - val_loss: 0.1223 - val_accuracy: 0.9695\n",
      "Epoch 5/10\n",
      "140/140 [==============================] - 12s 87ms/step - loss: 0.0570 - accuracy: 0.9847 - val_loss: 0.0940 - val_accuracy: 0.9740\n",
      "Epoch 6/10\n",
      "140/140 [==============================] - 12s 85ms/step - loss: 0.0480 - accuracy: 0.9895 - val_loss: 0.1144 - val_accuracy: 0.9623\n",
      "Epoch 7/10\n",
      "140/140 [==============================] - 12s 85ms/step - loss: 0.0473 - accuracy: 0.9890 - val_loss: 0.1127 - val_accuracy: 0.9722\n",
      "Epoch 8/10\n",
      "140/140 [==============================] - 12s 86ms/step - loss: 0.0470 - accuracy: 0.9890 - val_loss: 0.1227 - val_accuracy: 0.9632\n",
      "Epoch 9/10\n",
      "140/140 [==============================] - 12s 87ms/step - loss: 0.0371 - accuracy: 0.9921 - val_loss: 0.1242 - val_accuracy: 0.9632\n",
      "Epoch 10/10\n",
      "140/140 [==============================] - 12s 89ms/step - loss: 0.0350 - accuracy: 0.9908 - val_loss: 0.1483 - val_accuracy: 0.9578\n"
     ]
    }
   ],
   "source": [
    "#Training the model\n",
    "epochs = 10 \n",
    "batch_size = 32\n",
    "history = model.fit(train_texts, train_labels, epochs=epochs, batch_size=batch_size, validation_data=(test_texts, test_labels))"
   ]
  },
  {
   "cell_type": "markdown",
   "id": "962f12b1",
   "metadata": {},
   "source": [
    "# 3. Evaluating the Model"
   ]
  },
  {
   "cell_type": "code",
   "execution_count": 14,
   "id": "92f3ae41",
   "metadata": {},
   "outputs": [
    {
     "name": "stdout",
     "output_type": "stream",
     "text": [
      "35/35 [==============================] - 1s 22ms/step - loss: 0.1483 - accuracy: 0.9578\n",
      "Test Loss: 0.1482544094324112\n",
      "Test Accuracy: 0.957847535610199\n"
     ]
    }
   ],
   "source": [
    "loss, accuracy = model.evaluate(test_texts, test_labels)\n",
    "print('Test Loss:', loss)\n",
    "print('Test Accuracy:', accuracy)"
   ]
  },
  {
   "cell_type": "code",
   "execution_count": 15,
   "id": "bd27305b",
   "metadata": {},
   "outputs": [
    {
     "data": {
      "text/plain": [
       "dict_keys(['loss', 'accuracy', 'val_loss', 'val_accuracy'])"
      ]
     },
     "execution_count": 15,
     "metadata": {},
     "output_type": "execute_result"
    }
   ],
   "source": [
    "history.history.keys()"
   ]
  },
  {
   "cell_type": "code",
   "execution_count": 16,
   "id": "8de0a3f8",
   "metadata": {},
   "outputs": [
    {
     "data": {
      "image/png": "[encoded data removed]",
      "text/plain": [
       "<Figure size 640x480 with 1 Axes>"
      ]
     },
     "metadata": {},
     "output_type": "display_data"
    }
   ],
   "source": [
    "plt.plot(history.history['accuracy'])\n",
    "plt.title('Model Accuracy')\n",
    "plt.ylabel('accuracy')\n",
    "plt.xlabel('epoch')\n",
    "plt.legend(['train'], loc='upper left')\n",
    "plt.show()"
   ]
  },
  {
   "cell_type": "code",
   "execution_count": 17,
   "id": "93a90fe9",
   "metadata": {},
   "outputs": [
    {
     "data": {
      "image/png": "[encoded data removed]",
      "text/plain": [
       "<Figure size 640x480 with 1 Axes>"
      ]
     },
     "metadata": {},
     "output_type": "display_data"
    }
   ],
   "source": [
    "plt.plot(history.history['loss'])\n",
    "plt.title('Model Loss')\n",
    "plt.ylabel('loss')\n",
    "plt.xlabel('epoch')\n",
    "plt.legend(['train'], loc='upper left')\n",
    "plt.show()"
   ]
  },
  {
   "cell_type": "code",
   "execution_count": 18,
   "id": "027399eb",
   "metadata": {},
   "outputs": [
    {
     "data": {
      "image/png": "[encoded data removed]",
      "text/plain": [
       "<Figure size 640x480 with 1 Axes>"
      ]
     },
     "metadata": {},
     "output_type": "display_data"
    }
   ],
   "source": [
    "plt.plot(history.history['loss'])\n",
    "plt.plot(history.history['accuracy'])\n",
    "plt.title('model loss vs accuracy')\n",
    "plt.xlabel('epoch')\n",
    "plt.legend(['loss', 'accuracy'], loc='upper right')\n",
    "plt.show() "
   ]
  },
  {
   "cell_type": "code",
   "execution_count": 19,
   "id": "228fcefa",
   "metadata": {},
   "outputs": [
    {
     "name": "stdout",
     "output_type": "stream",
     "text": [
      "Enter a message: हैलो बेटे , आप ने रात का भोजन खा लिया मुझे तुम्हारी बहुत याद आ रही है\n",
      "1/1 [==============================] - 0s 247ms/step\n",
      "The message is predicted as not spam.\n"
     ]
    }
   ],
   "source": [
    "\n",
    "# Take user input\n",
    "user_input = input(\"Enter a message: \")\n",
    "\n",
    "# Preprocess the user input\n",
    "user_sequence = tokenizer.texts_to_sequences([user_input])\n",
    "user_padded_sequence = pad_sequences(user_sequence, padding='post', maxlen=padded_sequences.shape[1])\n",
    "\n",
    "# Make prediction on user input\n",
    "prediction = model.predict(user_padded_sequence)\n",
    "\n",
    "# Interpret the prediction\n",
    "if prediction >= 0.5:\n",
    "    print(\"The message is predicted as spam.\")\n",
    "else:\n",
    "    print(\"The message is predicted as not spam.\")\n"
   ]
  },
  {
   "cell_type": "code",
   "execution_count": 21,
   "id": "a44b6e56",
   "metadata": {},
   "outputs": [
    {
     "name": "stdout",
     "output_type": "stream",
     "text": [
      "1/1 [==============================] - 0s 12ms/step\n",
      "Message '0' is predicted as spam.\n",
      "Message '1' is predicted as spam.\n",
      "Message '2' is predicted as spam.\n",
      "Message '3' is predicted as spam.\n",
      "Message '4' is predicted as not spam.\n",
      "Message '5' is predicted as spam.\n",
      "Message '6' is predicted as not spam.\n",
      "Message '7' is predicted as spam.\n",
      "Message '8' is predicted as not spam.\n",
      "Message '9' is predicted as spam.\n",
      "Message '10' is predicted as spam.\n",
      "Message '11' is predicted as not spam.\n",
      "Message '12' is predicted as not spam.\n",
      "Message '13' is predicted as spam.\n",
      "Message '14' is predicted as not spam.\n",
      "Message '15' is predicted as spam.\n",
      "Message '16' is predicted as not spam.\n",
      "Message '17' is predicted as not spam.\n",
      "Message '18' is predicted as spam.\n",
      "Message '19' is predicted as not spam.\n",
      "Message '20' is predicted as spam.\n",
      "Message '21' is predicted as spam.\n",
      "Message '22' is predicted as not spam.\n",
      "Message '23' is predicted as not spam.\n",
      "Message '24' is predicted as not spam.\n",
      "Message '25' is predicted as not spam.\n",
      "Message '26' is predicted as not spam.\n",
      "Message '27' is predicted as not spam.\n"
     ]
    }
   ],
   "source": [
    "\n",
    "\n",
    "# Load and preprocess the real-world data\n",
    "real_data = pd.read_csv('realdata.csv')\n",
    "real_texts = real_data['text'].astype(str).values\n",
    "real_sequences = tokenizer.texts_to_sequences(real_texts)\n",
    "real_padded_sequences = pad_sequences(real_sequences, padding='post')\n",
    "\n",
    "# Make predictions on the real-world data\n",
    "predictions = model.predict(real_padded_sequences)\n",
    "\n",
    "# Interpret the predictions\n",
    "for i, prediction in enumerate(predictions):\n",
    "    if prediction >= 0.5:\n",
    "        print(f\"Message '{i}' is predicted as spam.\")\n",
    "    else:\n",
    "        print(f\"Message '{i}' is predicted as not spam.\")\n"
   ]
  },
  {
   "cell_type": "code",
   "execution_count": null,
   "id": "58cfe246",
   "metadata": {},
   "outputs": [],
   "source": []
  }
 ],
 "metadata": {
  "kernelspec": {
   "display_name": "Python 3 (ipykernel)",
   "language": "python",
   "name": "python3"
  },
  "language_info": {
   "codemirror_mode": {
    "name": "ipython",
    "version": 3
   },
   "file_extension": ".py",
   "mimetype": "text/x-python",
   "name": "python",
   "nbconvert_exporter": "python",
   "pygments_lexer": "ipython3",
   "version": "3.10.9"
  }
 },
 "nbformat": 4,
 "nbformat_minor": 5
}
