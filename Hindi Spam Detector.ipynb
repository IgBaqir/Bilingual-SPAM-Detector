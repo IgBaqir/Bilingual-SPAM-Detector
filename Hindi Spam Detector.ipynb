{
 "cells": [
  {
   "cell_type": "code",
   "execution_count": 23,
   "id": "cbf44b8f",
   "metadata": {},
   "outputs": [],
   "source": [
    "import pandas as pd\n",
    "import numpy as np\n",
    "import streamlit as st\n",
    "import tensorflow as tf\n",
    "import pickle\n",
    "import matplotlib.pyplot as plt\n",
    "from tensorflow.keras.preprocessing.text import Tokenizer\n",
    "from tensorflow.keras.preprocessing.sequence import pad_sequences\n",
    "from tensorflow.keras.models import Sequential\n",
    "from tensorflow.keras.layers import Embedding, LSTM, Bidirectional, Dense, Dropout"
   ]
  },
  {
   "cell_type": "markdown",
   "id": "932961dc",
   "metadata": {},
   "source": [
    "# 1. Data Preprocessing\n"
   ]
  },
  {
   "cell_type": "code",
   "execution_count": 24,
   "id": "044b4e5e",
   "metadata": {},
   "outputs": [],
   "source": [
    "df = pd.read_csv('finaldata.csv')"
   ]
  },
  {
   "cell_type": "code",
   "execution_count": 25,
   "id": "26ef0347",
   "metadata": {},
   "outputs": [
    {
     "data": {
      "text/html": [
       "<div>\n",
       "<style scoped>\n",
       "    .dataframe tbody tr th:only-of-type {\n",
       "        vertical-align: middle;\n",
       "    }\n",
       "\n",
       "    .dataframe tbody tr th {\n",
       "        vertical-align: top;\n",
       "    }\n",
       "\n",
       "    .dataframe thead th {\n",
       "        text-align: right;\n",
       "    }\n",
       "</style>\n",
       "<table border=\"1\" class=\"dataframe\">\n",
       "  <thead>\n",
       "    <tr style=\"text-align: right;\">\n",
       "      <th></th>\n",
       "      <th>labels</th>\n",
       "      <th>text</th>\n",
       "    </tr>\n",
       "  </thead>\n",
       "  <tbody>\n",
       "    <tr>\n",
       "      <th>966</th>\n",
       "      <td>ham</td>\n",
       "      <td>या बेहतर अभी भी आप उसे पकड़ सकते हैं और उससे प...</td>\n",
       "    </tr>\n",
       "    <tr>\n",
       "      <th>4317</th>\n",
       "      <td>ham</td>\n",
       "      <td>मैं बात नहीं कर सकता, sczel होल समस्या है. मैं...</td>\n",
       "    </tr>\n",
       "    <tr>\n",
       "      <th>2924</th>\n",
       "      <td>ham</td>\n",
       "      <td>ठीक है बस बैठे हैं.</td>\n",
       "    </tr>\n",
       "    <tr>\n",
       "      <th>3271</th>\n",
       "      <td>ham</td>\n",
       "      <td>के वास्तव में तुम लोग मुझे कैसे माथे पर सूरजोक...</td>\n",
       "    </tr>\n",
       "    <tr>\n",
       "      <th>3562</th>\n",
       "      <td>spam</td>\n",
       "      <td>यह देखने के लिए पाठ BanvU5K का उल्लंघन किया गया!</td>\n",
       "    </tr>\n",
       "    <tr>\n",
       "      <th>2034</th>\n",
       "      <td>ham</td>\n",
       "      <td>IM जाने वाला MISSU इतनी मात्रा में</td>\n",
       "    </tr>\n",
       "    <tr>\n",
       "      <th>3918</th>\n",
       "      <td>ham</td>\n",
       "      <td>यूर लैपटॉप के पास लकड़ी नहीं था... वह कहता है ...</td>\n",
       "    </tr>\n",
       "    <tr>\n",
       "      <th>3891</th>\n",
       "      <td>spam</td>\n",
       "      <td>डबल मिक्स्स (१) ब्लॉफ्स पर डबल मिम्पो. नवीनतम ...</td>\n",
       "    </tr>\n",
       "    <tr>\n",
       "      <th>3585</th>\n",
       "      <td>spam</td>\n",
       "      <td>HXATACAT के लिए नया NTAT: 11551 प्राप्त करने क...</td>\n",
       "    </tr>\n",
       "    <tr>\n",
       "      <th>422</th>\n",
       "      <td>spam</td>\n",
       "      <td>किसी ने हमारी डेटिंग सेवा से संपर्क किया है और...</td>\n",
       "    </tr>\n",
       "  </tbody>\n",
       "</table>\n",
       "</div>"
      ],
      "text/plain": [
       "     labels                                               text\n",
       "966     ham  या बेहतर अभी भी आप उसे पकड़ सकते हैं और उससे प...\n",
       "4317    ham  मैं बात नहीं कर सकता, sczel होल समस्या है. मैं...\n",
       "2924    ham                                ठीक है बस बैठे हैं.\n",
       "3271    ham  के वास्तव में तुम लोग मुझे कैसे माथे पर सूरजोक...\n",
       "3562   spam   यह देखने के लिए पाठ BanvU5K का उल्लंघन किया गया!\n",
       "2034    ham                 IM जाने वाला MISSU इतनी मात्रा में\n",
       "3918    ham  यूर लैपटॉप के पास लकड़ी नहीं था... वह कहता है ...\n",
       "3891   spam  डबल मिक्स्स (१) ब्लॉफ्स पर डबल मिम्पो. नवीनतम ...\n",
       "3585   spam  HXATACAT के लिए नया NTAT: 11551 प्राप्त करने क...\n",
       "422    spam  किसी ने हमारी डेटिंग सेवा से संपर्क किया है और..."
      ]
     },
     "execution_count": 25,
     "metadata": {},
     "output_type": "execute_result"
    }
   ],
   "source": [
    "df.sample(10)"
   ]
  },
  {
   "cell_type": "code",
   "execution_count": 26,
   "id": "3634f081",
   "metadata": {},
   "outputs": [
    {
     "data": {
      "text/plain": [
       "(5572, 2)"
      ]
     },
     "execution_count": 26,
     "metadata": {},
     "output_type": "execute_result"
    }
   ],
   "source": [
    "df.shape"
   ]
  },
  {
   "cell_type": "code",
   "execution_count": 27,
   "id": "76a7963b",
   "metadata": {},
   "outputs": [
    {
     "data": {
      "text/plain": [
       "<bound method DataFrame.info of      labels                                               text\n",
       "0       ham  Dakag बिंदु तक जाओ, पागल. केवल Bag Non महान वि...\n",
       "1       ham                         ओके लामर.... if if uue पर.\n",
       "2      spam  Fktatatat 21 मई को प्राप्त करने के लिए मुफ्त प...\n",
       "3       ham  Uden इतना जल्दी कहते हैं... तो पहले से ही यूसी...\n",
       "4       ham  नहीं, मुझे नहीं लगता कि वह हमारे लिए चला जाता ...\n",
       "...     ...                                                ...\n",
       "5567   spam  यह 2 सेकंड है जब हमने 2 संपर्क की कोशिश की है....\n",
       "5568    ham      क्या कलाई घर का पता लगाने के लिए जा रही होगी?\n",
       "5569    ham                      तो फिर, दूसरे सुझाव क्या हैं?\n",
       "5570    ham  आदमी कुछ कुतियािंग किया लेकिन मैं मैं कुछ और ख...\n",
       "5571    ham                     उसकी पीठ के नाम पर इसकी सच्चाई\n",
       "\n",
       "[5572 rows x 2 columns]>"
      ]
     },
     "execution_count": 27,
     "metadata": {},
     "output_type": "execute_result"
    }
   ],
   "source": [
    "df.info"
   ]
  },
  {
   "cell_type": "code",
   "execution_count": 28,
   "id": "9c708802",
   "metadata": {},
   "outputs": [
    {
     "data": {
      "text/plain": [
       "<function matplotlib.pyplot.show(close=None, block=None)>"
      ]
     },
     "execution_count": 28,
     "metadata": {},
     "output_type": "execute_result"
    },
    {
     "data": {
      "image/png": "[encoded data removed]",
      "text/plain": [
       "<Figure size 640x480 with 1 Axes>"
      ]
     },
     "metadata": {},
     "output_type": "display_data"
    }
   ],
   "source": [
    "#plotting\n",
    "plt.pie(df['labels'].value_counts(), labels = ['ham', 'spam'], autopct=\"%0.2f\")\n",
    "plt.show"
   ]
  },
  {
   "cell_type": "code",
   "execution_count": 29,
   "id": "76f18c2d",
   "metadata": {},
   "outputs": [
    {
     "name": "stdout",
     "output_type": "stream",
     "text": [
      "Texts: ['Dakag बिंदु तक जाओ, पागल. केवल Bag Non महान विश्व cag में उपलब्ध है... वहाँ एक अधिक wack मिला...'\n",
      " 'ओके लामर.... if if uue पर.'\n",
      " 'Fktatatat 21 मई को प्राप्त करने के लिए मुफ्त प्रविष्टि में. पाठ FAO को 87121 में प्रविष्टि प्राप्त करने के लिए(stibook दर) TTVERVE है 0. 08375750818 के मूल्य लागू करता है'\n",
      " ... 'तो फिर, दूसरे सुझाव क्या हैं?'\n",
      " 'आदमी कुछ कुतियािंग किया लेकिन मैं मैं कुछ और खरीदने में दिलचस्पी की तरह काम किया और वह हमें मुक्त करने के लिए दे दिया'\n",
      " 'उसकी पीठ के नाम पर इसकी सच्चाई']\n",
      "Labels: [0 0 1 ... 0 0 0]\n"
     ]
    }
   ],
   "source": [
    "# Split the dataset into input (SMS messages) and target (spam or not)\n",
    "\n",
    "texts = df['text'].astype(str).values\n",
    "labels = df['labels'].map({'ham': 0, 'spam': 1}).values\n",
    "print('Texts:',texts)\n",
    "print('Labels:',labels)"
   ]
  },
  {
   "cell_type": "code",
   "execution_count": 30,
   "id": "488228c0",
   "metadata": {},
   "outputs": [],
   "source": [
    "#Tokenization and Padding\n",
    "max_words = 1000\n",
    "tokenizer = Tokenizer(num_words=max_words, oov_token='<OOV>')\n",
    "tokenizer.fit_on_texts(texts)\n",
    "word_index = tokenizer.word_index\n",
    "sequences = tokenizer.texts_to_sequences(texts)\n",
    "padded_sequences = pad_sequences(sequences, padding='post')\n"
   ]
  },
  {
   "cell_type": "code",
   "execution_count": 32,
   "id": "fc0dc0e1",
   "metadata": {},
   "outputs": [],
   "source": [
    "with open('tokenizer.pkl', 'wb') as f:\n",
    "    pickle.dump(tokenizer, f)\n",
    "max_length = padded_sequences.shape[1]\n",
    "with open('max_length.pkl', 'wb') as f:\n",
    "    pickle.dump(max_length, f)"
   ]
  },
  {
   "cell_type": "markdown",
   "id": "23587262",
   "metadata": {},
   "source": [
    "# 2. Model \n"
   ]
  },
  {
   "cell_type": "code",
   "execution_count": 10,
   "id": "f14721b7",
   "metadata": {},
   "outputs": [],
   "source": [
    "model = Sequential()\n",
    "model.add(Embedding(max_words, 32, input_length = padded_sequences.shape[1]))\n",
    "model.add(Bidirectional(LSTM(64)))\n",
    "model.add(Dense(64, activation= 'relu'))\n",
    "model.add(Dropout(0.5))\n",
    "model.add(Dense(1, activation ='sigmoid'))"
   ]
  },
  {
   "cell_type": "code",
   "execution_count": 11,
   "id": "113ec9c3",
   "metadata": {},
   "outputs": [],
   "source": [
    "#model compilation\n",
    "model.compile(loss='binary_crossentropy', optimizer='adam', metrics=['accuracy'])"
   ]
  },
  {
   "cell_type": "code",
   "execution_count": 12,
   "id": "689f181d",
   "metadata": {},
   "outputs": [],
   "source": [
    "#Train_test_split\n",
    "train_size = int(0.8 * len(padded_sequences))\n",
    "train_texts = padded_sequences[:train_size]\n",
    "train_labels = labels[:train_size]\n",
    "test_texts = padded_sequences[train_size:]\n",
    "test_labels = labels[train_size:]"
   ]
  },
  {
   "cell_type": "code",
   "execution_count": 13,
   "id": "b746c892",
   "metadata": {},
   "outputs": [
    {
     "name": "stdout",
     "output_type": "stream",
     "text": [
      "Epoch 1/10\n"
     ]
    },
    {
     "name": "stderr",
     "output_type": "stream",
     "text": [
      "2023-07-05 13:50:06.394626: W tensorflow/core/platform/profile_utils/cpu_utils.cc:128] Failed to get CPU frequency: 0 Hz\n"
     ]
    },
    {
     "name": "stdout",
     "output_type": "stream",
     "text": [
      "140/140 [==============================] - 13s 88ms/step - loss: 0.3183 - accuracy: 0.8928 - val_loss: 0.1256 - val_accuracy: 0.9525\n",
      "Epoch 2/10\n",
      "140/140 [==============================] - 12s 85ms/step - loss: 0.1237 - accuracy: 0.9637 - val_loss: 0.1025 - val_accuracy: 0.9668\n",
      "Epoch 3/10\n",
      "140/140 [==============================] - 12s 86ms/step - loss: 0.0789 - accuracy: 0.9778 - val_loss: 0.0893 - val_accuracy: 0.9704\n",
      "Epoch 4/10\n",
      "140/140 [==============================] - 12s 85ms/step - loss: 0.0588 - accuracy: 0.9829 - val_loss: 0.0916 - val_accuracy: 0.9722\n",
      "Epoch 5/10\n",
      "140/140 [==============================] - 13s 90ms/step - loss: 0.0607 - accuracy: 0.9861 - val_loss: 0.1163 - val_accuracy: 0.9614\n",
      "Epoch 6/10\n",
      "140/140 [==============================] - 12s 84ms/step - loss: 0.0482 - accuracy: 0.9865 - val_loss: 0.1041 - val_accuracy: 0.9740\n",
      "Epoch 7/10\n",
      "140/140 [==============================] - 12s 85ms/step - loss: 0.0492 - accuracy: 0.9863 - val_loss: 0.1137 - val_accuracy: 0.9650\n",
      "Epoch 8/10\n",
      "140/140 [==============================] - 12s 85ms/step - loss: 0.0362 - accuracy: 0.9915 - val_loss: 0.1032 - val_accuracy: 0.9713\n",
      "Epoch 9/10\n",
      "140/140 [==============================] - 12s 85ms/step - loss: 0.0368 - accuracy: 0.9904 - val_loss: 0.1385 - val_accuracy: 0.9659\n",
      "Epoch 10/10\n",
      "140/140 [==============================] - 12s 86ms/step - loss: 0.0330 - accuracy: 0.9924 - val_loss: 0.1353 - val_accuracy: 0.9659\n"
     ]
    }
   ],
   "source": [
    "#Training the model\n",
    "epochs = 10 \n",
    "batch_size = 32\n",
    "history = model.fit(train_texts, train_labels, epochs=epochs, batch_size=batch_size, validation_data=(test_texts, test_labels))"
   ]
  },
  {
   "cell_type": "code",
   "execution_count": 14,
   "id": "68bd913a",
   "metadata": {},
   "outputs": [],
   "source": [
    "filename = \"model1.h5\"\n",
    "model.save(filename)"
   ]
  },
  {
   "cell_type": "code",
   "execution_count": null,
   "id": "c61818a6",
   "metadata": {},
   "outputs": [],
   "source": []
  },
  {
   "cell_type": "markdown",
   "id": "962f12b1",
   "metadata": {},
   "source": [
    "# 3. Evaluating the Model"
   ]
  },
  {
   "cell_type": "code",
   "execution_count": null,
   "id": "fc68fbb3",
   "metadata": {},
   "outputs": [],
   "source": []
  },
  {
   "cell_type": "code",
   "execution_count": 15,
   "id": "92f3ae41",
   "metadata": {},
   "outputs": [
    {
     "name": "stdout",
     "output_type": "stream",
     "text": [
      "35/35 [==============================] - 1s 20ms/step - loss: 0.1353 - accuracy: 0.9659\n",
      "Test Loss: 0.13532760739326477\n",
      "Test Accuracy: 0.9659192562103271\n"
     ]
    }
   ],
   "source": [
    "loss, accuracy = model.evaluate(test_texts, test_labels)\n",
    "print('Test Loss:', loss)\n",
    "print('Test Accuracy:', accuracy)"
   ]
  },
  {
   "cell_type": "code",
   "execution_count": 16,
   "id": "24eb9416",
   "metadata": {},
   "outputs": [],
   "source": [
    "# tf.keras.models.save_model(model, 'hindi_model.h5')"
   ]
  },
  {
   "cell_type": "code",
   "execution_count": 17,
   "id": "bd27305b",
   "metadata": {},
   "outputs": [
    {
     "data": {
      "text/plain": [
       "dict_keys(['loss', 'accuracy', 'val_loss', 'val_accuracy'])"
      ]
     },
     "execution_count": 17,
     "metadata": {},
     "output_type": "execute_result"
    }
   ],
   "source": [
    "history.history.keys()"
   ]
  },
  {
   "cell_type": "code",
   "execution_count": 18,
   "id": "8de0a3f8",
   "metadata": {},
   "outputs": [
    {
     "data": {
      "image/png": "[encoded data removed]",
      "text/plain": [
       "<Figure size 640x480 with 1 Axes>"
      ]
     },
     "metadata": {},
     "output_type": "display_data"
    }
   ],
   "source": [
    "plt.plot(history.history['accuracy'])\n",
    "plt.title('Model Accuracy')\n",
    "plt.ylabel('accuracy')\n",
    "plt.xlabel('epoch')\n",
    "plt.legend(['train'], loc='upper left')\n",
    "plt.show()"
   ]
  },
  {
   "cell_type": "code",
   "execution_count": 19,
   "id": "93a90fe9",
   "metadata": {},
   "outputs": [
    {
     "data": {
      "image/png": "[encoded data removed]",
      "text/plain": [
       "<Figure size 640x480 with 1 Axes>"
      ]
     },
     "metadata": {},
     "output_type": "display_data"
    }
   ],
   "source": [
    "plt.plot(history.history['loss'])\n",
    "plt.title('Model Loss')\n",
    "plt.ylabel('loss')\n",
    "plt.xlabel('epoch')\n",
    "plt.legend(['train'], loc='upper left')\n",
    "plt.show()"
   ]
  },
  {
   "cell_type": "code",
   "execution_count": 20,
   "id": "027399eb",
   "metadata": {},
   "outputs": [
    {
     "data": {
      "image/png": "[encoded data removed]",
      "text/plain": [
       "<Figure size 640x480 with 1 Axes>"
      ]
     },
     "metadata": {},
     "output_type": "display_data"
    }
   ],
   "source": [
    "plt.plot(history.history['loss'])\n",
    "plt.plot(history.history['accuracy'])\n",
    "plt.title('model loss vs accuracy')\n",
    "plt.xlabel('epoch')\n",
    "plt.legend(['loss', 'accuracy'], loc='upper right')\n",
    "plt.show() "
   ]
  },
  {
   "cell_type": "code",
   "execution_count": 21,
   "id": "228fcefa",
   "metadata": {},
   "outputs": [
    {
     "name": "stdout",
     "output_type": "stream",
     "text": [
      "Enter a message: एयरटेल स्पेशल डेटा पैक। आज ही रिचार्ज करे रु 29 से और आनंद ले अपने पसंदीदा टीवी शोज, मूवीज और लाइव स्पोर्ट एक्शन्स। रु 29 के रिचार्ज में आपको मिलता है 2 GB डाटा 1 दिन की वैलिडिटी के साथ। नजदीकी रिटेलर पर जाएँ या अपने मनपसंद ऑनलाइन माध्यम से आज ही रीचार्ज करें।\n",
      "1/1 [==============================] - 0s 314ms/step\n",
      "The message is predicted as spam.\n"
     ]
    }
   ],
   "source": [
    "# Take user input\n",
    "user_input = input(\"Enter a message: \")\n",
    "\n",
    "# Preprocess the user input\n",
    "user_sequence = tokenizer.texts_to_sequences([user_input])\n",
    "user_padded_sequence = pad_sequences(user_sequence, padding='post', maxlen=padded_sequences.shape[1])\n",
    "\n",
    "# Make prediction on user input\n",
    "prediction = model.predict(user_padded_sequence)\n",
    "\n",
    "# Interpret the prediction\n",
    "if prediction >= 0.5:\n",
    "    print(\"The message is predicted as spam.\")\n",
    "else:\n",
    "    print(\"The message is predicted as not spam.\")\n"
   ]
  },
  {
   "cell_type": "code",
   "execution_count": null,
   "id": "8ae2b72b",
   "metadata": {},
   "outputs": [],
   "source": []
  },
  {
   "cell_type": "code",
   "execution_count": 22,
   "id": "a44b6e56",
   "metadata": {},
   "outputs": [],
   "source": [
    "\n",
    "\n",
    "# # Load and preprocess the real-world data\n",
    "# real_data = pd.read_csv('realdata.csv')\n",
    "# real_texts = real_data['text'].astype(str).values\n",
    "# real_sequences = tokenizer.texts_to_sequences(real_texts)\n",
    "# real_padded_sequences = pad_sequences(real_sequences, padding='post')\n",
    "\n",
    "# # Make predictions on the real-world data\n",
    "# predictions = model.predict(real_padded_sequences)\n",
    "\n",
    "# # Interpret the predictions\n",
    "# for i, prediction in enumerate(predictions):\n",
    "#     if prediction >= 0.5:\n",
    "#         print(f\"Message '{i}' is predicted as spam.\")\n",
    "#     else:\n",
    "#         print(f\"Message '{i}' is predicted as not spam.\")\n"
   ]
  },
  {
   "cell_type": "code",
   "execution_count": null,
   "id": "58cfe246",
   "metadata": {},
   "outputs": [],
   "source": []
  }
 ],
 "metadata": {
  "kernelspec": {
   "display_name": "Python 3 (ipykernel)",
   "language": "python",
   "name": "python3"
  },
  "language_info": {
   "codemirror_mode": {
    "name": "ipython",
    "version": 3
   },
   "file_extension": ".py",
   "mimetype": "text/x-python",
   "name": "python",
   "nbconvert_exporter": "python",
   "pygments_lexer": "ipython3",
   "version": "3.10.9"
  }
 },
 "nbformat": 4,
 "nbformat_minor": 5
}
