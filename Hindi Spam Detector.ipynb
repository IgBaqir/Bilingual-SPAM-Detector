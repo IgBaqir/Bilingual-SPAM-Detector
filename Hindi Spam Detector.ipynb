{
 "cells": [
  {
   "cell_type": "code",
   "execution_count": 1,
   "id": "cbf44b8f",
   "metadata": {},
   "outputs": [],
   "source": [
    "import pandas as pd\n",
    "import numpy as np\n",
    "import streamlit as st\n",
    "import tensorflow as tf\n",
    "import matplotlib.pyplot as plt\n",
    "from tensorflow.keras.preprocessing.text import Tokenizer\n",
    "from tensorflow.keras.preprocessing.sequence import pad_sequences\n",
    "from tensorflow.keras.models import Sequential\n",
    "from tensorflow.keras.layers import Embedding, LSTM, Bidirectional, Dense, Dropout"
   ]
  },
  {
   "cell_type": "markdown",
   "id": "932961dc",
   "metadata": {},
   "source": [
    "# 1. Data Preprocessing\n"
   ]
  },
  {
   "cell_type": "code",
   "execution_count": 2,
   "id": "044b4e5e",
   "metadata": {},
   "outputs": [],
   "source": [
    "df = pd.read_csv('finaldata.csv')"
   ]
  },
  {
   "cell_type": "code",
   "execution_count": 3,
   "id": "26ef0347",
   "metadata": {},
   "outputs": [
    {
     "data": {
      "text/html": [
       "<div>\n",
       "<style scoped>\n",
       "    .dataframe tbody tr th:only-of-type {\n",
       "        vertical-align: middle;\n",
       "    }\n",
       "\n",
       "    .dataframe tbody tr th {\n",
       "        vertical-align: top;\n",
       "    }\n",
       "\n",
       "    .dataframe thead th {\n",
       "        text-align: right;\n",
       "    }\n",
       "</style>\n",
       "<table border=\"1\" class=\"dataframe\">\n",
       "  <thead>\n",
       "    <tr style=\"text-align: right;\">\n",
       "      <th></th>\n",
       "      <th>labels</th>\n",
       "      <th>text</th>\n",
       "    </tr>\n",
       "  </thead>\n",
       "  <tbody>\n",
       "    <tr>\n",
       "      <th>4253</th>\n",
       "      <td>ham</td>\n",
       "      <td>महीने और साल के साथ जन्म की तारीख भेजें, मैं अ...</td>\n",
       "    </tr>\n",
       "    <tr>\n",
       "      <th>4400</th>\n",
       "      <td>ham</td>\n",
       "      <td>मैं इसे प्यार करता हूँ ।</td>\n",
       "    </tr>\n",
       "    <tr>\n",
       "      <th>4923</th>\n",
       "      <td>ham</td>\n",
       "      <td>हाय प्रिय मुझे फोन. मैं नहीं जानता कि आपकी समस...</td>\n",
       "    </tr>\n",
       "    <tr>\n",
       "      <th>1854</th>\n",
       "      <td>ham</td>\n",
       "      <td>मैंने बस कुछ भुगतान किया है तो यह इतना नहीं है...</td>\n",
       "    </tr>\n",
       "    <tr>\n",
       "      <th>1708</th>\n",
       "      <td>ham</td>\n",
       "      <td>कल तुम्हें फोन करेंगे.</td>\n",
       "    </tr>\n",
       "    <tr>\n",
       "      <th>1291</th>\n",
       "      <td>ham</td>\n",
       "      <td>खाने का काम तमाम कर दिया... वर को 12 समारोह मे...</td>\n",
       "    </tr>\n",
       "    <tr>\n",
       "      <th>3847</th>\n",
       "      <td>ham</td>\n",
       "      <td>बैल आज यहाँ जाता है (llt;#gt; मुझे कोई बहाना न...</td>\n",
       "    </tr>\n",
       "    <tr>\n",
       "      <th>4592</th>\n",
       "      <td>spam</td>\n",
       "      <td>बहुत अच्छे काम किए गए हैं! अधिकारी पॉलीनानी या...</td>\n",
       "    </tr>\n",
       "    <tr>\n",
       "      <th>1683</th>\n",
       "      <td>ham</td>\n",
       "      <td>मुझे लगता है कि अमरीका में नौ साल की उम्र से ह...</td>\n",
       "    </tr>\n",
       "    <tr>\n",
       "      <th>2432</th>\n",
       "      <td>ham</td>\n",
       "      <td>यह अच्छा है. चलो भगवान का धन्यवाद करते हैं. कृ...</td>\n",
       "    </tr>\n",
       "  </tbody>\n",
       "</table>\n",
       "</div>"
      ],
      "text/plain": [
       "     labels                                               text\n",
       "4253    ham  महीने और साल के साथ जन्म की तारीख भेजें, मैं अ...\n",
       "4400    ham                           मैं इसे प्यार करता हूँ ।\n",
       "4923    ham  हाय प्रिय मुझे फोन. मैं नहीं जानता कि आपकी समस...\n",
       "1854    ham  मैंने बस कुछ भुगतान किया है तो यह इतना नहीं है...\n",
       "1708    ham                             कल तुम्हें फोन करेंगे.\n",
       "1291    ham  खाने का काम तमाम कर दिया... वर को 12 समारोह मे...\n",
       "3847    ham  बैल आज यहाँ जाता है (llt;#gt; मुझे कोई बहाना न...\n",
       "4592   spam  बहुत अच्छे काम किए गए हैं! अधिकारी पॉलीनानी या...\n",
       "1683    ham  मुझे लगता है कि अमरीका में नौ साल की उम्र से ह...\n",
       "2432    ham  यह अच्छा है. चलो भगवान का धन्यवाद करते हैं. कृ..."
      ]
     },
     "execution_count": 3,
     "metadata": {},
     "output_type": "execute_result"
    }
   ],
   "source": [
    "df.sample(10)"
   ]
  },
  {
   "cell_type": "code",
   "execution_count": 4,
   "id": "3634f081",
   "metadata": {},
   "outputs": [
    {
     "data": {
      "text/plain": [
       "(5572, 2)"
      ]
     },
     "execution_count": 4,
     "metadata": {},
     "output_type": "execute_result"
    }
   ],
   "source": [
    "df.shape"
   ]
  },
  {
   "cell_type": "code",
   "execution_count": 5,
   "id": "76a7963b",
   "metadata": {},
   "outputs": [
    {
     "data": {
      "text/plain": [
       "<bound method DataFrame.info of      labels                                               text\n",
       "0       ham  Dakag बिंदु तक जाओ, पागल. केवल Bag Non महान वि...\n",
       "1       ham                         ओके लामर.... if if uue पर.\n",
       "2      spam  Fktatatat 21 मई को प्राप्त करने के लिए मुफ्त प...\n",
       "3       ham  Uden इतना जल्दी कहते हैं... तो पहले से ही यूसी...\n",
       "4       ham  नहीं, मुझे नहीं लगता कि वह हमारे लिए चला जाता ...\n",
       "...     ...                                                ...\n",
       "5567   spam  यह 2 सेकंड है जब हमने 2 संपर्क की कोशिश की है....\n",
       "5568    ham      क्या कलाई घर का पता लगाने के लिए जा रही होगी?\n",
       "5569    ham                      तो फिर, दूसरे सुझाव क्या हैं?\n",
       "5570    ham  आदमी कुछ कुतियािंग किया लेकिन मैं मैं कुछ और ख...\n",
       "5571    ham                     उसकी पीठ के नाम पर इसकी सच्चाई\n",
       "\n",
       "[5572 rows x 2 columns]>"
      ]
     },
     "execution_count": 5,
     "metadata": {},
     "output_type": "execute_result"
    }
   ],
   "source": [
    "df.info"
   ]
  },
  {
   "cell_type": "code",
   "execution_count": 6,
   "id": "9c708802",
   "metadata": {},
   "outputs": [
    {
     "data": {
      "text/plain": [
       "<function matplotlib.pyplot.show(close=None, block=None)>"
      ]
     },
     "execution_count": 6,
     "metadata": {},
     "output_type": "execute_result"
    },
    {
     "data": {
      "image/png": "[encoded data removed]",
      "text/plain": [
       "<Figure size 640x480 with 1 Axes>"
      ]
     },
     "metadata": {},
     "output_type": "display_data"
    }
   ],
   "source": [
    "#plotting\n",
    "plt.pie(df['labels'].value_counts(), labels = ['ham', 'spam'], autopct=\"%0.2f\")\n",
    "plt.show"
   ]
  },
  {
   "cell_type": "code",
   "execution_count": 7,
   "id": "76f18c2d",
   "metadata": {},
   "outputs": [
    {
     "name": "stdout",
     "output_type": "stream",
     "text": [
      "Texts: ['Dakag बिंदु तक जाओ, पागल. केवल Bag Non महान विश्व cag में उपलब्ध है... वहाँ एक अधिक wack मिला...'\n",
      " 'ओके लामर.... if if uue पर.'\n",
      " 'Fktatatat 21 मई को प्राप्त करने के लिए मुफ्त प्रविष्टि में. पाठ FAO को 87121 में प्रविष्टि प्राप्त करने के लिए(stibook दर) TTVERVE है 0. 08375750818 के मूल्य लागू करता है'\n",
      " ... 'तो फिर, दूसरे सुझाव क्या हैं?'\n",
      " 'आदमी कुछ कुतियािंग किया लेकिन मैं मैं कुछ और खरीदने में दिलचस्पी की तरह काम किया और वह हमें मुक्त करने के लिए दे दिया'\n",
      " 'उसकी पीठ के नाम पर इसकी सच्चाई']\n",
      "Labels: [0 0 1 ... 0 0 0]\n"
     ]
    }
   ],
   "source": [
    "# Split the dataset into input (SMS messages) and target (spam or not)\n",
    "\n",
    "texts = df['text'].astype(str).values\n",
    "labels = df['labels'].map({'ham': 0, 'spam': 1}).values\n",
    "print('Texts:',texts)\n",
    "print('Labels:',labels)"
   ]
  },
  {
   "cell_type": "code",
   "execution_count": 8,
   "id": "488228c0",
   "metadata": {},
   "outputs": [
    {
     "name": "stdout",
     "output_type": "stream",
     "text": [
      "[[  1 816  78 ...   0   0   0]\n",
      " [  1 515   1 ...   0   0   0]\n",
      " [  1 887   1 ...   0   0   0]\n",
      " ...\n",
      " [ 32  60 413 ...   0   0   0]\n",
      " [161  41   1 ...   0   0   0]\n",
      " [392   1   3 ...   0   0   0]]\n"
     ]
    }
   ],
   "source": [
    "#Tokenization and Padding\n",
    "max_words = 1000\n",
    "tokenizer = Tokenizer(num_words=max_words, oov_token='<OOV>')\n",
    "tokenizer.fit_on_texts(texts)\n",
    "word_index = tokenizer.word_index\n",
    "sequences = tokenizer.texts_to_sequences(texts)\n",
    "padded_sequences = pad_sequences(sequences, padding='post')\n",
    "print(padded_sequences)\n"
   ]
  },
  {
   "cell_type": "markdown",
   "id": "23587262",
   "metadata": {},
   "source": [
    "# 2. Model \n"
   ]
  },
  {
   "cell_type": "code",
   "execution_count": 9,
   "id": "f14721b7",
   "metadata": {},
   "outputs": [],
   "source": [
    "model = Sequential()\n",
    "model.add(Embedding(max_words, 32, input_length = padded_sequences.shape[1]))\n",
    "model.add(Bidirectional(LSTM(64)))\n",
    "model.add(Dense(64, activation= 'relu'))\n",
    "model.add(Dropout(0.5))\n",
    "model.add(Dense(1, activation ='sigmoid'))"
   ]
  },
  {
   "cell_type": "code",
   "execution_count": 10,
   "id": "113ec9c3",
   "metadata": {},
   "outputs": [],
   "source": [
    "#model compilation\n",
    "model.compile(loss='binary_crossentropy', optimizer='adam', metrics=['accuracy'])"
   ]
  },
  {
   "cell_type": "code",
   "execution_count": 11,
   "id": "689f181d",
   "metadata": {},
   "outputs": [],
   "source": [
    "#Train_test_split\n",
    "train_size = int(0.8 * len(padded_sequences))\n",
    "train_texts = padded_sequences[:train_size]\n",
    "train_labels = labels[:train_size]\n",
    "test_texts = padded_sequences[train_size:]\n",
    "test_labels = labels[train_size:]"
   ]
  },
  {
   "cell_type": "code",
   "execution_count": 12,
   "id": "b746c892",
   "metadata": {},
   "outputs": [
    {
     "name": "stdout",
     "output_type": "stream",
     "text": [
      "Epoch 1/10\n"
     ]
    },
    {
     "name": "stderr",
     "output_type": "stream",
     "text": [
      "2023-07-03 10:00:42.347180: W tensorflow/core/platform/profile_utils/cpu_utils.cc:128] Failed to get CPU frequency: 0 Hz\n"
     ]
    },
    {
     "name": "stdout",
     "output_type": "stream",
     "text": [
      "140/140 [==============================] - 13s 86ms/step - loss: 0.2955 - accuracy: 0.9006 - val_loss: 0.1228 - val_accuracy: 0.9552\n",
      "Epoch 2/10\n",
      "140/140 [==============================] - 12s 84ms/step - loss: 0.1152 - accuracy: 0.9681 - val_loss: 0.0970 - val_accuracy: 0.9659\n",
      "Epoch 3/10\n",
      "140/140 [==============================] - 12s 84ms/step - loss: 0.0794 - accuracy: 0.9778 - val_loss: 0.1009 - val_accuracy: 0.9686\n",
      "Epoch 4/10\n",
      "140/140 [==============================] - 12s 84ms/step - loss: 0.0649 - accuracy: 0.9825 - val_loss: 0.0905 - val_accuracy: 0.9686\n",
      "Epoch 5/10\n",
      "140/140 [==============================] - 12s 84ms/step - loss: 0.0616 - accuracy: 0.9852 - val_loss: 0.1005 - val_accuracy: 0.9686\n",
      "Epoch 6/10\n",
      "140/140 [==============================] - 12s 85ms/step - loss: 0.0552 - accuracy: 0.9856 - val_loss: 0.1198 - val_accuracy: 0.9686\n",
      "Epoch 7/10\n",
      "140/140 [==============================] - 12s 87ms/step - loss: 0.0447 - accuracy: 0.9901 - val_loss: 0.1553 - val_accuracy: 0.9623\n",
      "Epoch 8/10\n",
      "140/140 [==============================] - 12s 89ms/step - loss: 0.0425 - accuracy: 0.9892 - val_loss: 0.1427 - val_accuracy: 0.9632\n",
      "Epoch 9/10\n",
      "140/140 [==============================] - 12s 89ms/step - loss: 0.0376 - accuracy: 0.9915 - val_loss: 0.1375 - val_accuracy: 0.9650\n",
      "Epoch 10/10\n",
      "140/140 [==============================] - 13s 91ms/step - loss: 0.0390 - accuracy: 0.9901 - val_loss: 0.1399 - val_accuracy: 0.9659\n"
     ]
    }
   ],
   "source": [
    "#Training the model\n",
    "epochs = 10 \n",
    "batch_size = 32\n",
    "history = model.fit(train_texts, train_labels, epochs=epochs, batch_size=batch_size, validation_data=(test_texts, test_labels))"
   ]
  },
  {
   "cell_type": "markdown",
   "id": "962f12b1",
   "metadata": {},
   "source": [
    "# 3. Evaluating the Model"
   ]
  },
  {
   "cell_type": "code",
   "execution_count": 13,
   "id": "92f3ae41",
   "metadata": {},
   "outputs": [
    {
     "name": "stdout",
     "output_type": "stream",
     "text": [
      "35/35 [==============================] - 1s 21ms/step - loss: 0.1399 - accuracy: 0.9659\n",
      "Test Loss: 0.1399274617433548\n",
      "Test Accuracy: 0.9659192562103271\n"
     ]
    }
   ],
   "source": [
    "loss, accuracy = model.evaluate(test_texts, test_labels)\n",
    "print('Test Loss:', loss)\n",
    "print('Test Accuracy:', accuracy)"
   ]
  },
  {
   "cell_type": "code",
   "execution_count": 14,
   "id": "bd27305b",
   "metadata": {},
   "outputs": [
    {
     "data": {
      "text/plain": [
       "dict_keys(['loss', 'accuracy', 'val_loss', 'val_accuracy'])"
      ]
     },
     "execution_count": 14,
     "metadata": {},
     "output_type": "execute_result"
    }
   ],
   "source": [
    "history.history.keys()"
   ]
  },
  {
   "cell_type": "code",
   "execution_count": 15,
   "id": "8de0a3f8",
   "metadata": {},
   "outputs": [
    {
     "data": {
      "image/png": "[encoded data removed]",
      "text/plain": [
       "<Figure size 640x480 with 1 Axes>"
      ]
     },
     "metadata": {},
     "output_type": "display_data"
    }
   ],
   "source": [
    "plt.plot(history.history['accuracy'])\n",
    "plt.title('Model Accuracy')\n",
    "plt.ylabel('accuracy')\n",
    "plt.xlabel('epoch')\n",
    "plt.legend(['train'], loc='upper left')\n",
    "plt.show()"
   ]
  },
  {
   "cell_type": "code",
   "execution_count": 16,
   "id": "93a90fe9",
   "metadata": {},
   "outputs": [
    {
     "data": {
      "image/png": "[encoded data removed]",
      "text/plain": [
       "<Figure size 640x480 with 1 Axes>"
      ]
     },
     "metadata": {},
     "output_type": "display_data"
    }
   ],
   "source": [
    "plt.plot(history.history['loss'])\n",
    "plt.title('Model Loss')\n",
    "plt.ylabel('loss')\n",
    "plt.xlabel('epoch')\n",
    "plt.legend(['train'], loc='upper left')\n",
    "plt.show()"
   ]
  },
  {
   "cell_type": "code",
   "execution_count": 17,
   "id": "027399eb",
   "metadata": {},
   "outputs": [
    {
     "data": {
      "image/png": "[encoded data removed]",
      "text/plain": [
       "<Figure size 640x480 with 1 Axes>"
      ]
     },
     "metadata": {},
     "output_type": "display_data"
    }
   ],
   "source": [
    "plt.plot(history.history['loss'])\n",
    "plt.plot(history.history['accuracy'])\n",
    "plt.title('model loss vs accuracy')\n",
    "plt.xlabel('epoch')\n",
    "plt.legend(['loss', 'accuracy'], loc='upper right')\n",
    "plt.show() "
   ]
  },
  {
   "cell_type": "code",
   "execution_count": 18,
   "id": "7ddf44a6",
   "metadata": {},
   "outputs": [],
   "source": [
    "tf.keras.models.save_model(model, 'my_model2.h5')"
   ]
  },
  {
   "cell_type": "code",
   "execution_count": 19,
   "id": "228fcefa",
   "metadata": {},
   "outputs": [
    {
     "name": "stdout",
     "output_type": "stream",
     "text": [
      "Enter a message: hy\n",
      "1/1 [==============================] - 0s 257ms/step\n",
      "The message is predicted as not spam.\n"
     ]
    }
   ],
   "source": [
    "\n",
    "# Take user input\n",
    "user_input = input(\"Enter a message: \")\n",
    "\n",
    "# Preprocess the user input\n",
    "user_sequence = tokenizer.texts_to_sequences([user_input])\n",
    "user_padded_sequence = pad_sequences(user_sequence, padding='post', maxlen=padded_sequences.shape[1])\n",
    "\n",
    "# Make prediction on user input\n",
    "prediction = model.predict(user_padded_sequence)\n",
    "\n",
    "# Interpret the prediction\n",
    "if prediction >= 0.5:\n",
    "    print(\"The message is predicted as spam.\")\n",
    "else:\n",
    "    print(\"The message is predicted as not spam.\")\n"
   ]
  },
  {
   "cell_type": "code",
   "execution_count": 20,
   "id": "8ae2b72b",
   "metadata": {},
   "outputs": [
    {
     "name": "stderr",
     "output_type": "stream",
     "text": [
      "2023-07-03 10:03:26.397 \n",
      "  \u001b[33m\u001b[1mWarning:\u001b[0m to view this Streamlit app on a browser, run it with the following\n",
      "  command:\n",
      "\n",
      "    streamlit run /Users/baqir/anaconda3/lib/python3.10/site-packages/ipykernel_launcher.py [ARGUMENTS]\n"
     ]
    }
   ],
   "source": [
    "model = tf.keras.models.load_model('my_model2.h5')\n",
    "\n",
    "# Function to preprocess the input text\n",
    "def preprocess_text(text):\n",
    "    # Tokenization and padding\n",
    "    sequences = tokenizer.texts_to_sequences([text])\n",
    "    padded_sequences = pad_sequences(sequences, padding='post', maxlen=max_length)\n",
    "    return padded_sequences\n",
    "\n",
    "# Function to predict spam or ham\n",
    "def predict_spam(text):\n",
    "    preprocessed_text = preprocess_text(text)\n",
    "    prediction = model.predict(preprocessed_text)[0][0]\n",
    "    return 'Spam' if prediction >= 0.5 else 'Ham'\n",
    "\n",
    "# Load the dataset and tokenizer\n",
    "df = pd.read_csv('finaldata.csv')\n",
    "texts = df['text'].astype(str).values\n",
    "labels = df['labels'].map({'ham': 0, 'spam': 1}).values\n",
    "max_words = 1000\n",
    "tokenizer = Tokenizer(num_words=max_words, oov_token='<OOV>')\n",
    "tokenizer.fit_on_texts(texts)\n",
    "max_length = max([len(s.split()) for s in texts])\n",
    "\n",
    "# Streamlit app\n",
    "def main():\n",
    "    st.title(\"Spam Detection\")\n",
    "    user_input = st.text_input(\"Enter a message:\")\n",
    "    if st.button(\"Predict\"):\n",
    "        prediction = predict_spam(user_input)\n",
    "        st.write(\"Prediction:\", prediction)\n",
    "\n",
    "if __name__ == \"__main__\":\n",
    "    main()\n",
    "\n",
    "\n",
    "\n"
   ]
  },
  {
   "cell_type": "code",
   "execution_count": 21,
   "id": "a44b6e56",
   "metadata": {},
   "outputs": [],
   "source": [
    "\n",
    "\n",
    "# # Load and preprocess the real-world data\n",
    "# real_data = pd.read_csv('realdata.csv')\n",
    "# real_texts = real_data['text'].astype(str).values\n",
    "# real_sequences = tokenizer.texts_to_sequences(real_texts)\n",
    "# real_padded_sequences = pad_sequences(real_sequences, padding='post')\n",
    "\n",
    "# # Make predictions on the real-world data\n",
    "# predictions = model.predict(real_padded_sequences)\n",
    "\n",
    "# # Interpret the predictions\n",
    "# for i, prediction in enumerate(predictions):\n",
    "#     if prediction >= 0.5:\n",
    "#         print(f\"Message '{i}' is predicted as spam.\")\n",
    "#     else:\n",
    "#         print(f\"Message '{i}' is predicted as not spam.\")\n"
   ]
  },
  {
   "cell_type": "code",
   "execution_count": null,
   "id": "58cfe246",
   "metadata": {},
   "outputs": [],
   "source": []
  }
 ],
 "metadata": {
  "kernelspec": {
   "display_name": "Python 3 (ipykernel)",
   "language": "python",
   "name": "python3"
  },
  "language_info": {
   "codemirror_mode": {
    "name": "ipython",
    "version": 3
   },
   "file_extension": ".py",
   "mimetype": "text/x-python",
   "name": "python",
   "nbconvert_exporter": "python",
   "pygments_lexer": "ipython3",
   "version": "3.10.9"
  }
 },
 "nbformat": 4,
 "nbformat_minor": 5
}
